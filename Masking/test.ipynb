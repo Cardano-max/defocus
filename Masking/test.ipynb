{
 "cells": [
  {
   "cell_type": "code",
   "execution_count": 2,
   "metadata": {},
   "outputs": [],
   "source": [
    "from PIL import Image\n",
    "import cv2\n",
    "import numpy\n",
    "from time import time\n",
    "\n",
    "from preprocess.humanparsing.run_parsing import Parsing\n",
    "from preprocess.openpose.run_openpose import OpenPose\n",
    "import matplotlib.pyplot as plt\n",
    "from masking import get_mask_location\n"
   ]
  },
  {
   "cell_type": "code",
   "execution_count": 3,
   "metadata": {},
   "outputs": [],
   "source": [
    "parsing_model = Parsing(-1)\n",
    "openpose_model = OpenPose(-1)"
   ]
  },
  {
   "cell_type": "code",
   "execution_count": 4,
   "metadata": {},
   "outputs": [
    {
     "data": {
      "text/plain": [
       "(1080, 1920)"
      ]
     },
     "execution_count": 4,
     "metadata": {},
     "output_type": "execute_result"
    }
   ],
   "source": [
    "# human_img = Image.open(\"/Users/zohaib.munir/Downloads/2024-07-18_05-44-21_7351.png\").convert('RGB').resize((768,1024))\n",
    "human_img = Image.open(\"hasnain.jpg\").convert('RGB')\n",
    "target_size = human_img.size\n",
    "human_img = human_img.resize(((768,1024)))\n",
    "target_size"
   ]
  },
  {
   "cell_type": "code",
   "execution_count": 100,
   "metadata": {},
   "outputs": [],
   "source": [
    "keypoints = openpose_model(human_img.resize((384,512)))\n",
    "# keypoints = openpose_model(human_img)"
   ]
  },
  {
   "cell_type": "code",
   "execution_count": 101,
   "metadata": {},
   "outputs": [
    {
     "name": "stderr",
     "output_type": "stream",
     "text": [
      "100%|██████████| 1/1 [00:00<00:00,  1.50it/s]\n",
      "100%|██████████| 1/1 [00:00<00:00,  1.70it/s]\n"
     ]
    }
   ],
   "source": [
    "model_parse, _ = parsing_model(human_img.resize((384,512)))\n",
    "# model_parse, _ = parsing_model(human_img)"
   ]
  },
  {
   "cell_type": "code",
   "execution_count": 102,
   "metadata": {},
   "outputs": [],
   "source": [
    "mask, mask_gray = get_mask_location('hd', \"upper_body\", model_parse, keypoints)"
   ]
  },
  {
   "cell_type": "code",
   "execution_count": 103,
   "metadata": {},
   "outputs": [
    {
     "data": {
      "image/png": "[encoded data removed]",
      "text/plain": [
       "<Figure size 640x480 with 1 Axes>"
      ]
     },
     "metadata": {},
     "output_type": "display_data"
    }
   ],
   "source": [
    "mask_gray = mask_gray.resize((768,1024))\n",
    "# Show using matplotlib\n",
    "plt.imshow(mask)\n",
    "plt.show()"
   ]
  },
  {
   "cell_type": "code",
   "execution_count": 104,
   "metadata": {},
   "outputs": [
    {
     "data": {
      "text/plain": [
       "(512, 384)"
      ]
     },
     "execution_count": 104,
     "metadata": {},
     "output_type": "execute_result"
    }
   ],
   "source": [
    "numpy.asarray(mask).shape"
   ]
  },
  {
   "cell_type": "code",
   "execution_count": 105,
   "metadata": {},
   "outputs": [],
   "source": [
    "mask.show()"
   ]
  },
  {
   "cell_type": "code",
   "execution_count": 108,
   "metadata": {},
   "outputs": [],
   "source": [
    "mask.resize(target_size).show()"
   ]
  },
  {
   "cell_type": "code",
   "execution_count": 4,
   "metadata": {},
   "outputs": [
    {
     "ename": "ModuleNotFoundError",
     "evalue": "No module named 'onnxruntime'",
     "output_type": "error",
     "traceback": [
      "\u001b[0;31m---------------------------------------------------------------------------\u001b[0m",
      "\u001b[0;31mModuleNotFoundError\u001b[0m                       Traceback (most recent call last)",
      "Cell \u001b[0;32mIn[4], line 4\u001b[0m\n\u001b[1;32m      2\u001b[0m \u001b[38;5;28;01mimport\u001b[39;00m \u001b[38;5;21;01mcv2\u001b[39;00m\n\u001b[1;32m      3\u001b[0m \u001b[38;5;28;01mfrom\u001b[39;00m \u001b[38;5;21;01mPIL\u001b[39;00m \u001b[38;5;28;01mimport\u001b[39;00m Image\n\u001b[0;32m----> 4\u001b[0m \u001b[38;5;28;01mfrom\u001b[39;00m \u001b[38;5;21;01mpreprocess\u001b[39;00m\u001b[38;5;21;01m.\u001b[39;00m\u001b[38;5;21;01mhumanparsing\u001b[39;00m\u001b[38;5;21;01m.\u001b[39;00m\u001b[38;5;21;01mrun_parsing\u001b[39;00m \u001b[38;5;28;01mimport\u001b[39;00m Parsing\n\u001b[1;32m      5\u001b[0m \u001b[38;5;28;01mfrom\u001b[39;00m \u001b[38;5;21;01mpreprocess\u001b[39;00m\u001b[38;5;21;01m.\u001b[39;00m\u001b[38;5;21;01mopenpose\u001b[39;00m\u001b[38;5;21;01m.\u001b[39;00m\u001b[38;5;21;01mrun_openpose\u001b[39;00m \u001b[38;5;28;01mimport\u001b[39;00m OpenPose\n\u001b[1;32m      7\u001b[0m \u001b[38;5;28;01mclass\u001b[39;00m \u001b[38;5;21;01mMasking\u001b[39;00m:\n",
      "File \u001b[0;32m~/arbi_tryon/arbi-tryon/Masking/preprocess/humanparsing/run_parsing.py:5\u001b[0m\n\u001b[1;32m      3\u001b[0m \u001b[38;5;28;01mimport\u001b[39;00m \u001b[38;5;21;01msys\u001b[39;00m\n\u001b[1;32m      4\u001b[0m \u001b[38;5;28;01mimport\u001b[39;00m \u001b[38;5;21;01mos\u001b[39;00m\n\u001b[0;32m----> 5\u001b[0m \u001b[38;5;28;01mimport\u001b[39;00m \u001b[38;5;21;01monnxruntime\u001b[39;00m \u001b[38;5;28;01mas\u001b[39;00m \u001b[38;5;21;01mort\u001b[39;00m\n\u001b[1;32m      6\u001b[0m PROJECT_ROOT \u001b[38;5;241m=\u001b[39m Path(\u001b[38;5;18m__file__\u001b[39m)\u001b[38;5;241m.\u001b[39mabsolute()\u001b[38;5;241m.\u001b[39mparents[\u001b[38;5;241m0\u001b[39m]\u001b[38;5;241m.\u001b[39mabsolute()\n\u001b[1;32m      7\u001b[0m sys\u001b[38;5;241m.\u001b[39mpath\u001b[38;5;241m.\u001b[39minsert(\u001b[38;5;241m0\u001b[39m, \u001b[38;5;28mstr\u001b[39m(PROJECT_ROOT))\n",
      "\u001b[0;31mModuleNotFoundError\u001b[0m: No module named 'onnxruntime'"
     ]
    }
   ],
   "source": [
    "import numpy as np\n",
    "import cv2\n",
    "from PIL import Image\n",
    "from preprocess.humanparsing.run_parsing import Parsing\n",
    "from preprocess.openpose.run_openpose import OpenPose\n",
    "\n",
    "class Masking:\n",
    "    def __init__(self):\n",
    "        self.parsing_model = Parsing(-1)\n",
    "        self.openpose_model = OpenPose(-1)\n",
    "        self.label_map = {\n",
    "            \"background\": 0, \"hat\": 1, \"hair\": 2, \"sunglasses\": 3, \"upper_clothes\": 4,\n",
    "            \"skirt\": 5, \"pants\": 6, \"dress\": 7, \"belt\": 8, \"left_shoe\": 9, \"right_shoe\": 10,\n",
    "            \"head\": 11, \"left_leg\": 12, \"right_leg\": 13, \"left_arm\": 14, \"right_arm\": 15,\n",
    "            \"bag\": 16, \"scarf\": 17, \"neck\": 18\n",
    "        }\n",
    "\n",
    "    def get_mask(self, img, category='upper_body'):\n",
    "        # Resize image to 384x512 for processing\n",
    "        img_resized = img.resize((384, 512), Image.Resampling.LANCZOS)\n",
    "        \n",
    "        # Get human parsing result\n",
    "        parse_result, _ = self.parsing_model(img_resized)\n",
    "        parse_array = np.array(parse_result)\n",
    "\n",
    "        # Get pose estimation\n",
    "        keypoints = self.openpose_model(img_resized)\n",
    "        pose_data = np.array(keypoints[\"pose_keypoints_2d\"]).reshape((-1, 2))\n",
    "\n",
    "        # Create initial mask based on category\n",
    "        if category == 'upper_body':\n",
    "            mask = np.isin(parse_array, [self.label_map[\"upper_clothes\"], self.label_map[\"dress\"]])\n",
    "        elif category == 'lower_body':\n",
    "            mask = np.isin(parse_array, [self.label_map[\"pants\"], self.label_map[\"skirt\"]])\n",
    "        elif category == 'dresses':\n",
    "            mask = np.isin(parse_array, [self.label_map[\"upper_clothes\"], self.label_map[\"dress\"], \n",
    "                                         self.label_map[\"pants\"], self.label_map[\"skirt\"]])\n",
    "        else:\n",
    "            raise ValueError(\"Invalid category. Choose 'upper_body', 'lower_body', or 'dresses'.\")\n",
    "\n",
    "        # Create arm mask\n",
    "        arm_mask = np.isin(parse_array, [self.label_map[\"left_arm\"], self.label_map[\"right_arm\"]])\n",
    "\n",
    "        # Create hand mask using pose data\n",
    "        hand_mask = self.create_hand_mask(pose_data, parse_array.shape)\n",
    "\n",
    "        # Combine arm and hand mask\n",
    "        arm_hand_mask = np.logical_or(arm_mask, hand_mask)\n",
    "\n",
    "        # Remove arms and hands from the mask\n",
    "        mask = np.logical_and(mask, np.logical_not(arm_hand_mask))\n",
    "\n",
    "        # Refine the mask\n",
    "        mask = self.refine_mask(mask)\n",
    "\n",
    "        # Resize mask back to original image size\n",
    "        mask_pil = Image.fromarray(mask.astype(np.uint8) * 255)\n",
    "        mask_pil = mask_pil.resize(img.size, Image.Resampling.LANCZOS)\n",
    "        \n",
    "        return np.array(mask_pil)\n",
    "\n",
    "    def create_hand_mask(self, pose_data, shape):\n",
    "        hand_mask = np.zeros(shape, dtype=np.uint8)\n",
    "        \n",
    "        # Right hand\n",
    "        if pose_data[4][0] > 0 and pose_data[4][1] > 0:  # If right wrist is detected\n",
    "            cv2.circle(hand_mask, (int(pose_data[4][0]), int(pose_data[4][1])), 30, 255, -1)\n",
    "        \n",
    "        # Left hand\n",
    "        if pose_data[7][0] > 0 and pose_data[7][1] > 0:  # If left wrist is detected\n",
    "            cv2.circle(hand_mask, (int(pose_data[7][0]), int(pose_data[7][1])), 30, 255, -1)\n",
    "        \n",
    "        return hand_mask > 0  # Convert back to boolean mask\n",
    "\n",
    "    def refine_mask(self, mask):\n",
    "        # Convert to uint8 for OpenCV operations\n",
    "        mask_uint8 = mask.astype(np.uint8) * 255\n",
    "        \n",
    "        # Apply morphological operations to smooth the mask\n",
    "        kernel = np.ones((5,5), np.uint8)\n",
    "        mask_uint8 = cv2.morphologyEx(mask_uint8, cv2.MORPH_CLOSE, kernel)\n",
    "        mask_uint8 = cv2.morphologyEx(mask_uint8, cv2.MORPH_OPEN, kernel)\n",
    "        \n",
    "        # Find contours and keep only the largest one\n",
    "        contours, _ = cv2.findContours(mask_uint8, cv2.RETR_EXTERNAL, cv2.CHAIN_APPROX_SIMPLE)\n",
    "        if contours:\n",
    "            largest_contour = max(contours, key=cv2.contourArea)\n",
    "            mask_refined = np.zeros_like(mask_uint8)\n",
    "            cv2.drawContours(mask_refined, [largest_contour], 0, 255, -1)\n",
    "        else:\n",
    "            mask_refined = mask_uint8\n",
    "        \n",
    "        return mask_refined > 0  # Convert back to boolean mask\n",
    "\n",
    "if __name__ == \"__main__\":\n",
    "    masker = Masking()\n",
    "    human_img = Image.open(\"images/ok.png\").convert('RGB')\n",
    "    mask = masker.get_mask(human_img, category='upper_body')\n",
    "    Image.fromarray(mask).show()"
   ]
  },
  {
   "cell_type": "code",
   "execution_count": 2,
   "metadata": {},
   "outputs": [
    {
     "name": "stdout",
     "output_type": "stream",
     "text": [
      "Defaulting to user installation because normal site-packages is not writeable\n",
      "Collecting numpy\n",
      "  Downloading numpy-2.0.1-cp312-cp312-macosx_14_0_x86_64.whl.metadata (60 kB)\n",
      "\u001b[2K     \u001b[90m━━━━━━━━━━━━━━━━━━━━━━━━━━━━━━━━━━━━━━━\u001b[0m \u001b[32m60.9/60.9 kB\u001b[0m \u001b[31m307.4 kB/s\u001b[0m eta \u001b[36m0:00:00\u001b[0ma \u001b[36m0:00:01\u001b[0m\n",
      "\u001b[?25hCollecting opencv-python\n",
      "  Downloading opencv_python-4.10.0.84-cp37-abi3-macosx_12_0_x86_64.whl.metadata (20 kB)\n",
      "Collecting Pillow\n",
      "  Downloading pillow-10.4.0-cp312-cp312-macosx_10_10_x86_64.whl.metadata (9.2 kB)\n",
      "Downloading numpy-2.0.1-cp312-cp312-macosx_14_0_x86_64.whl (6.6 MB)\n",
      "\u001b[2K   \u001b[90m━━━━━━━━━━━━━━━━━━━━━━━━━━━━━━━━━━━━━━━━\u001b[0m \u001b[32m6.6/6.6 MB\u001b[0m \u001b[31m8.7 MB/s\u001b[0m eta \u001b[36m0:00:00\u001b[0m00:01\u001b[0m00:01\u001b[0m\n",
      "\u001b[?25hDownloading opencv_python-4.10.0.84-cp37-abi3-macosx_12_0_x86_64.whl (56.5 MB)\n",
      "\u001b[2K   \u001b[90m━━━━━━━━━━━━━━━━━━━━━━━━━━━━━━━━━━━━━━━━\u001b[0m \u001b[32m56.5/56.5 MB\u001b[0m \u001b[31m23.2 MB/s\u001b[0m eta \u001b[36m0:00:00\u001b[0m00:01\u001b[0m00:01\u001b[0m\n",
      "\u001b[?25hDownloading pillow-10.4.0-cp312-cp312-macosx_10_10_x86_64.whl (3.5 MB)\n",
      "\u001b[2K   \u001b[90m━━━━━━━━━━━━━━━━━━━━━━━━━━━━━━━━━━━━━━━━\u001b[0m \u001b[32m3.5/3.5 MB\u001b[0m \u001b[31m32.8 MB/s\u001b[0m eta \u001b[36m0:00:00\u001b[0m00:01\u001b[0m00:01\u001b[0m\n",
      "\u001b[?25hInstalling collected packages: Pillow, numpy, opencv-python\n",
      "Successfully installed Pillow-10.4.0 numpy-2.0.1 opencv-python-4.10.0.84\n",
      "\n",
      "\u001b[1m[\u001b[0m\u001b[34;49mnotice\u001b[0m\u001b[1;39;49m]\u001b[0m\u001b[39;49m A new release of pip is available: \u001b[0m\u001b[31;49m24.0\u001b[0m\u001b[39;49m -> \u001b[0m\u001b[32;49m24.2\u001b[0m\n",
      "\u001b[1m[\u001b[0m\u001b[34;49mnotice\u001b[0m\u001b[1;39;49m]\u001b[0m\u001b[39;49m To update, run: \u001b[0m\u001b[32;49mpython3 -m pip install --upgrade pip\u001b[0m\n",
      "Note: you may need to restart the kernel to use updated packages.\n"
     ]
    }
   ],
   "source": [
    "pip install numpy opencv-python Pillow"
   ]
  }
 ],
 "metadata": {
  "kernelspec": {
   "display_name": "Schoolgram",
   "language": "python",
   "name": "python3"
  },
  "language_info": {
   "codemirror_mode": {
    "name": "ipython",
    "version": 3
   },
   "file_extension": ".py",
   "mimetype": "text/x-python",
   "name": "python",
   "nbconvert_exporter": "python",
   "pygments_lexer": "ipython3",
   "version": "3.12.3"
  }
 },
 "nbformat": 4,
 "nbformat_minor": 2
}
